{
 "cells": [
  {
   "cell_type": "code",
   "execution_count": 4,
   "metadata": {},
   "outputs": [],
   "source": [
    "import pandas as pd\n",
    "import seaborn as sns\n",
    "import matplotlib.pyplot as plt"
   ]
  },
  {
   "cell_type": "code",
   "execution_count": 5,
   "metadata": {},
   "outputs": [
    {
     "data": {
      "text/html": [
       "<div>\n",
       "<style scoped>\n",
       "    .dataframe tbody tr th:only-of-type {\n",
       "        vertical-align: middle;\n",
       "    }\n",
       "\n",
       "    .dataframe tbody tr th {\n",
       "        vertical-align: top;\n",
       "    }\n",
       "\n",
       "    .dataframe thead th {\n",
       "        text-align: right;\n",
       "    }\n",
       "</style>\n",
       "<table border=\"1\" class=\"dataframe\">\n",
       "  <thead>\n",
       "    <tr style=\"text-align: right;\">\n",
       "      <th></th>\n",
       "      <th>Cand_Id</th>\n",
       "      <th>Cand_Incumbent_Challenger_Open_Seat</th>\n",
       "      <th>Cand_Name</th>\n",
       "      <th>Cand_Office</th>\n",
       "      <th>Cand_Office_St</th>\n",
       "      <th>Cand_Party_Affiliation</th>\n",
       "      <th>Cand_State</th>\n",
       "      <th>GE WINNER INDICATOR</th>\n",
       "      <th>Individual_Contribution</th>\n",
       "      <th>Other_Committee_Contribution</th>\n",
       "      <th>Party_Committee_Contribution</th>\n",
       "      <th>Total_Disbursement</th>\n",
       "      <th>Total_Receipt</th>\n",
       "      <th>year</th>\n",
       "    </tr>\n",
       "  </thead>\n",
       "  <tbody>\n",
       "    <tr>\n",
       "      <th>0</th>\n",
       "      <td>S6AK00078</td>\n",
       "      <td>CHALLENGER</td>\n",
       "      <td>CUDDY, DAVID W</td>\n",
       "      <td>S</td>\n",
       "      <td>AK</td>\n",
       "      <td>REP</td>\n",
       "      <td>AK</td>\n",
       "      <td>0</td>\n",
       "      <td>31261.0</td>\n",
       "      <td>260.0</td>\n",
       "      <td>0.0</td>\n",
       "      <td>862663.0</td>\n",
       "      <td>862661.0</td>\n",
       "      <td>2008</td>\n",
       "    </tr>\n",
       "    <tr>\n",
       "      <th>1</th>\n",
       "      <td>S8AK00074</td>\n",
       "      <td>CHALLENGER</td>\n",
       "      <td>CALDERO, ROCKY CHRISTOPHER</td>\n",
       "      <td>S</td>\n",
       "      <td>AK</td>\n",
       "      <td>DEM</td>\n",
       "      <td>AK</td>\n",
       "      <td>0</td>\n",
       "      <td>31622.0</td>\n",
       "      <td>0.0</td>\n",
       "      <td>0.0</td>\n",
       "      <td>25891.0</td>\n",
       "      <td>32004.0</td>\n",
       "      <td>2008</td>\n",
       "    </tr>\n",
       "    <tr>\n",
       "      <th>2</th>\n",
       "      <td>S8AK00082</td>\n",
       "      <td>CHALLENGER</td>\n",
       "      <td>METCALFE, RAY</td>\n",
       "      <td>S</td>\n",
       "      <td>AK</td>\n",
       "      <td>DEM</td>\n",
       "      <td>AK</td>\n",
       "      <td>0</td>\n",
       "      <td>30267.0</td>\n",
       "      <td>0.0</td>\n",
       "      <td>0.0</td>\n",
       "      <td>30562.0</td>\n",
       "      <td>30309.0</td>\n",
       "      <td>2008</td>\n",
       "    </tr>\n",
       "    <tr>\n",
       "      <th>3</th>\n",
       "      <td>S8AK00108</td>\n",
       "      <td>CHALLENGER</td>\n",
       "      <td>SIKMA, RODERIC H 'RICK'</td>\n",
       "      <td>S</td>\n",
       "      <td>AK</td>\n",
       "      <td>REP</td>\n",
       "      <td>AK</td>\n",
       "      <td>0</td>\n",
       "      <td>4746.0</td>\n",
       "      <td>0.0</td>\n",
       "      <td>0.0</td>\n",
       "      <td>12203.0</td>\n",
       "      <td>11996.0</td>\n",
       "      <td>2008</td>\n",
       "    </tr>\n",
       "    <tr>\n",
       "      <th>4</th>\n",
       "      <td>S8AK00124</td>\n",
       "      <td>CHALLENGER</td>\n",
       "      <td>VICKERS, RAYMOND B VIC</td>\n",
       "      <td>S</td>\n",
       "      <td>AK</td>\n",
       "      <td>REP</td>\n",
       "      <td>AK</td>\n",
       "      <td>0</td>\n",
       "      <td>10215.0</td>\n",
       "      <td>0.0</td>\n",
       "      <td>0.0</td>\n",
       "      <td>1010617.0</td>\n",
       "      <td>1055221.0</td>\n",
       "      <td>2008</td>\n",
       "    </tr>\n",
       "  </tbody>\n",
       "</table>\n",
       "</div>"
      ],
      "text/plain": [
       "     Cand_Id Cand_Incumbent_Challenger_Open_Seat                   Cand_Name  \\\n",
       "0  S6AK00078                          CHALLENGER              CUDDY, DAVID W   \n",
       "1  S8AK00074                          CHALLENGER  CALDERO, ROCKY CHRISTOPHER   \n",
       "2  S8AK00082                          CHALLENGER               METCALFE, RAY   \n",
       "3  S8AK00108                          CHALLENGER     SIKMA, RODERIC H 'RICK'   \n",
       "4  S8AK00124                          CHALLENGER      VICKERS, RAYMOND B VIC   \n",
       "\n",
       "  Cand_Office Cand_Office_St Cand_Party_Affiliation Cand_State  \\\n",
       "0           S             AK                    REP         AK   \n",
       "1           S             AK                    DEM         AK   \n",
       "2           S             AK                    DEM         AK   \n",
       "3           S             AK                    REP         AK   \n",
       "4           S             AK                    REP         AK   \n",
       "\n",
       "   GE WINNER INDICATOR  Individual_Contribution  Other_Committee_Contribution  \\\n",
       "0                    0                  31261.0                         260.0   \n",
       "1                    0                  31622.0                           0.0   \n",
       "2                    0                  30267.0                           0.0   \n",
       "3                    0                   4746.0                           0.0   \n",
       "4                    0                  10215.0                           0.0   \n",
       "\n",
       "   Party_Committee_Contribution  Total_Disbursement  Total_Receipt  year  \n",
       "0                           0.0            862663.0       862661.0  2008  \n",
       "1                           0.0             25891.0        32004.0  2008  \n",
       "2                           0.0             30562.0        30309.0  2008  \n",
       "3                           0.0             12203.0        11996.0  2008  \n",
       "4                           0.0           1010617.0      1055221.0  2008  "
      ]
     },
     "execution_count": 5,
     "metadata": {},
     "output_type": "execute_result"
    }
   ],
   "source": [
    "# Let's pull the candidates info \n",
    "\n",
    "senate_cand = pd.read_csv(\"senate.csv\")\n",
    "senate_cand.head()"
   ]
  },
  {
   "cell_type": "code",
   "execution_count": 6,
   "metadata": {},
   "outputs": [
    {
     "ename": "NameError",
     "evalue": "name 'candidate' is not defined",
     "output_type": "error",
     "traceback": [
      "\u001b[1;31m---------------------------------------------------------------------------\u001b[0m",
      "\u001b[1;31mNameError\u001b[0m                                 Traceback (most recent call last)",
      "\u001b[1;32m<ipython-input-6-7b834544467a>\u001b[0m in \u001b[0;36m<module>\u001b[1;34m()\u001b[0m\n\u001b[0;32m      1\u001b[0m \u001b[1;31m# Let's only look at candidates running for Senate elections\u001b[0m\u001b[1;33m\u001b[0m\u001b[1;33m\u001b[0m\u001b[0m\n\u001b[0;32m      2\u001b[0m \u001b[1;33m\u001b[0m\u001b[0m\n\u001b[1;32m----> 3\u001b[1;33m \u001b[0msenate_candidates\u001b[0m \u001b[1;33m=\u001b[0m \u001b[0mcandidate\u001b[0m\u001b[1;33m[\u001b[0m\u001b[0mcandidate\u001b[0m\u001b[1;33m[\u001b[0m\u001b[1;34m'Cand_Office'\u001b[0m\u001b[1;33m]\u001b[0m \u001b[1;33m==\u001b[0m \u001b[1;34m\"S\"\u001b[0m\u001b[1;33m]\u001b[0m\u001b[1;33m\u001b[0m\u001b[0m\n\u001b[0m\u001b[0;32m      4\u001b[0m \u001b[1;31m# senate_candidates = senate_candidates[senate_candidates['elec_yr'] == 2014]\u001b[0m\u001b[1;33m\u001b[0m\u001b[1;33m\u001b[0m\u001b[0m\n\u001b[0;32m      5\u001b[0m \u001b[0msenate_candidates\u001b[0m\u001b[1;33m[\u001b[0m\u001b[0msenate_candidates\u001b[0m\u001b[1;33m[\u001b[0m\u001b[1;34m\"Cand_Id\"\u001b[0m\u001b[1;33m]\u001b[0m \u001b[1;33m==\u001b[0m \u001b[1;34m\"S4AK00214\"\u001b[0m\u001b[1;33m]\u001b[0m\u001b[1;33m\u001b[0m\u001b[0m\n",
      "\u001b[1;31mNameError\u001b[0m: name 'candidate' is not defined"
     ]
    }
   ],
   "source": [
    "# Let's only look at candidates running for Senate elections\n",
    "\n",
    "senate_candidates = candidate[candidate['Cand_Office'] == \"S\"]\n",
    "# senate_candidates = senate_candidates[senate_candidates['elec_yr'] == 2014]\n",
    "senate_candidates[senate_candidates[\"Cand_Id\"] == \"S4AK00214\"]"
   ]
  },
  {
   "cell_type": "code",
   "execution_count": null,
   "metadata": {},
   "outputs": [],
   "source": [
    "# It's time to pull the election results data \n",
    "results = pd.read_excel(\"data/results14.xls\",sheet_name=\"2014 US Senate Results by State\")\n",
    "results = results.filter(items=['GE WINNER INDICATOR',\"Candidate_Id\",\"STATE\",\"CANDIDATE NAME\"])\n",
    "senate_results = results[results[\"GE WINNER INDICATOR\"] == \"W\"]\n",
    "# results.head()\n",
    "temp = senate_results[\"Candidate_Id\"].str.strip()\n",
    "senate_results[\"Candidate_Id\"] = temp\n",
    "# senate_results[senate_results[\"Candidate_Id\"] == \"S4AK00214\"]\n",
    "# senate_results"
   ]
  },
  {
   "cell_type": "code",
   "execution_count": null,
   "metadata": {},
   "outputs": [],
   "source": [
    "# Let's left join the results on senate candidates\n",
    "\n",
    "# candidate_result = senate_candidates.set_index('id').join(result.set_index('Candidate ID'))\n",
    "candidate_result = pd.merge(senate_candidates,senate_results, how = 'left', left_on = 'Cand_Id', right_on = 'Candidate_Id')"
   ]
  },
  {
   "cell_type": "code",
   "execution_count": null,
   "metadata": {},
   "outputs": [],
   "source": [
    "candidate_result = candidate_result.fillna(0)\n",
    "candidate_result = candidate_result.replace(\"W\",1)\n",
    "# candidate_result[candidate_result[\"add_state\"] == 0].filter(items=['state', 'add_state',\"Winners\"])"
   ]
  },
  {
   "cell_type": "code",
   "execution_count": null,
   "metadata": {},
   "outputs": [],
   "source": [
    "# Let's Calculate the Winning probabilities of In-State and Out-State candidates\n",
    "candidate_result.columns\n",
    "# candidate_result[\"state\",\"add_state\"]\n",
    "final_result =  candidate_result.filter(items=['Cand_Office_St','Cand_State',\"GE WINNER INDICATOR\"])\n",
    "# final_result[\"GE WINNER INDICATOR\"].sum()"
   ]
  },
  {
   "cell_type": "code",
   "execution_count": null,
   "metadata": {},
   "outputs": [],
   "source": [
    "sns.set()\n",
    "in_state_winners = final_result[(final_result[\"GE WINNER INDICATOR\"] == 1) & (final_result[\"Cand_State\"] == final_result[\"Cand_Office_St\"])].count()[0]\n",
    "in_state_losers = final_result[(final_result[\"GE WINNER INDICATOR\"] == 0) & (final_result[\"Cand_State\"] == final_result[\"Cand_Office_St\"])].count()[0]\n",
    "\n",
    "out_state_winners = final_result[(final_result[\"GE WINNER INDICATOR\"] == 1) & (final_result[\"Cand_State\"] != final_result[\"Cand_Office_St\"])].count()[0]\n",
    "out_state_losers = final_result[(final_result[\"GE WINNER INDICATOR\"] == 0) & (final_result[\"Cand_State\"] != final_result[\"Cand_Office_St\"])].count()[0]\n",
    "\n",
    "in_state_plot = pd.DataFrame({\"result\":['Win','Lose'],\"No of Candidates\":[in_state_winners,in_state_losers]})\n",
    "out_state_plot = pd.DataFrame({\"result\":['Win','Lose'],\"No of Candidates\":[out_state_winners,out_state_losers]})\n",
    "g = sns.factorplot(x='result', y='No of Candidates',data=in_state_plot, kind='bar',size=7, aspect=0.5)\n",
    "f = sns.factorplot(x='result', y='No of Candidates',data=out_state_plot, kind='bar',size=7, aspect=0.5)\n",
    "\n",
    "for ax in g.axes.flatten():\n",
    "    ax.set_xlabel('')\n",
    "    ax.set_title('In-State candidate')\n",
    "for ax in f.axes.flatten():\n",
    "    ax.set_xlabel('')\n",
    "    ax.set_title('Out-State candidate')\n",
    "    \n",
    "g.savefig(\"in-state.jpg\",dpi=1000)\n",
    "f.savefig(\"out-state.jpg\",dpi=1000)"
   ]
  },
  {
   "cell_type": "code",
   "execution_count": null,
   "metadata": {},
   "outputs": [],
   "source": [
    "print(\"In-State Winning percentage: \",in_state_winners * 100 / final_result.count()[0], \"%\")\n",
    "print(\"Out-State Winning percentage: \",out_state_winners * 100 / final_result.count()[0], \"%\")"
   ]
  }
 ],
 "metadata": {
  "kernelspec": {
   "display_name": "Python 3",
   "language": "python",
   "name": "python3"
  },
  "language_info": {
   "codemirror_mode": {
    "name": "ipython",
    "version": 3
   },
   "file_extension": ".py",
   "mimetype": "text/x-python",
   "name": "python",
   "nbconvert_exporter": "python",
   "pygments_lexer": "ipython3",
   "version": "3.6.5"
  }
 },
 "nbformat": 4,
 "nbformat_minor": 2
}

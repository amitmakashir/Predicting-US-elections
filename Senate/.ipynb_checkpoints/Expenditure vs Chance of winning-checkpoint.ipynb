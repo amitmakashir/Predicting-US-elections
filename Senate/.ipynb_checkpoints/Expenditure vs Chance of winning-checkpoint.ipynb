{
 "cells": [
  {
   "cell_type": "code",
   "execution_count": 5,
   "metadata": {},
   "outputs": [],
   "source": [
    "import pandas as pd\n",
    "import seaborn as sns\n",
    "import matplotlib.pyplot as plt"
   ]
  },
  {
   "cell_type": "code",
   "execution_count": 6,
   "metadata": {},
   "outputs": [
    {
     "data": {
      "text/html": [
       "<div>\n",
       "<style scoped>\n",
       "    .dataframe tbody tr th:only-of-type {\n",
       "        vertical-align: middle;\n",
       "    }\n",
       "\n",
       "    .dataframe tbody tr th {\n",
       "        vertical-align: top;\n",
       "    }\n",
       "\n",
       "    .dataframe thead th {\n",
       "        text-align: right;\n",
       "    }\n",
       "</style>\n",
       "<table border=\"1\" class=\"dataframe\">\n",
       "  <thead>\n",
       "    <tr style=\"text-align: right;\">\n",
       "      <th></th>\n",
       "      <th>Cand_Id</th>\n",
       "      <th>Cand_Incumbent_Challenger_Open_Seat</th>\n",
       "      <th>Cand_Name</th>\n",
       "      <th>Cand_Office</th>\n",
       "      <th>Cand_Office_St</th>\n",
       "      <th>Cand_Party_Affiliation</th>\n",
       "      <th>Cand_State</th>\n",
       "      <th>GE WINNER INDICATOR</th>\n",
       "      <th>Individual_Contribution</th>\n",
       "      <th>Other_Committee_Contribution</th>\n",
       "      <th>Party_Committee_Contribution</th>\n",
       "      <th>Total_Disbursement</th>\n",
       "      <th>Total_Receipt</th>\n",
       "      <th>year</th>\n",
       "    </tr>\n",
       "  </thead>\n",
       "  <tbody>\n",
       "    <tr>\n",
       "      <th>0</th>\n",
       "      <td>S6AK00078</td>\n",
       "      <td>CHALLENGER</td>\n",
       "      <td>CUDDY, DAVID W</td>\n",
       "      <td>S</td>\n",
       "      <td>AK</td>\n",
       "      <td>REP</td>\n",
       "      <td>AK</td>\n",
       "      <td>0</td>\n",
       "      <td>31261.0</td>\n",
       "      <td>260.0</td>\n",
       "      <td>0.0</td>\n",
       "      <td>862663.0</td>\n",
       "      <td>862661.0</td>\n",
       "      <td>2008</td>\n",
       "    </tr>\n",
       "    <tr>\n",
       "      <th>1</th>\n",
       "      <td>S8AK00074</td>\n",
       "      <td>CHALLENGER</td>\n",
       "      <td>CALDERO, ROCKY CHRISTOPHER</td>\n",
       "      <td>S</td>\n",
       "      <td>AK</td>\n",
       "      <td>DEM</td>\n",
       "      <td>AK</td>\n",
       "      <td>0</td>\n",
       "      <td>31622.0</td>\n",
       "      <td>0.0</td>\n",
       "      <td>0.0</td>\n",
       "      <td>25891.0</td>\n",
       "      <td>32004.0</td>\n",
       "      <td>2008</td>\n",
       "    </tr>\n",
       "    <tr>\n",
       "      <th>2</th>\n",
       "      <td>S8AK00082</td>\n",
       "      <td>CHALLENGER</td>\n",
       "      <td>METCALFE, RAY</td>\n",
       "      <td>S</td>\n",
       "      <td>AK</td>\n",
       "      <td>DEM</td>\n",
       "      <td>AK</td>\n",
       "      <td>0</td>\n",
       "      <td>30267.0</td>\n",
       "      <td>0.0</td>\n",
       "      <td>0.0</td>\n",
       "      <td>30562.0</td>\n",
       "      <td>30309.0</td>\n",
       "      <td>2008</td>\n",
       "    </tr>\n",
       "    <tr>\n",
       "      <th>3</th>\n",
       "      <td>S8AK00108</td>\n",
       "      <td>CHALLENGER</td>\n",
       "      <td>SIKMA, RODERIC H 'RICK'</td>\n",
       "      <td>S</td>\n",
       "      <td>AK</td>\n",
       "      <td>REP</td>\n",
       "      <td>AK</td>\n",
       "      <td>0</td>\n",
       "      <td>4746.0</td>\n",
       "      <td>0.0</td>\n",
       "      <td>0.0</td>\n",
       "      <td>12203.0</td>\n",
       "      <td>11996.0</td>\n",
       "      <td>2008</td>\n",
       "    </tr>\n",
       "    <tr>\n",
       "      <th>4</th>\n",
       "      <td>S8AK00124</td>\n",
       "      <td>CHALLENGER</td>\n",
       "      <td>VICKERS, RAYMOND B VIC</td>\n",
       "      <td>S</td>\n",
       "      <td>AK</td>\n",
       "      <td>REP</td>\n",
       "      <td>AK</td>\n",
       "      <td>0</td>\n",
       "      <td>10215.0</td>\n",
       "      <td>0.0</td>\n",
       "      <td>0.0</td>\n",
       "      <td>1010617.0</td>\n",
       "      <td>1055221.0</td>\n",
       "      <td>2008</td>\n",
       "    </tr>\n",
       "  </tbody>\n",
       "</table>\n",
       "</div>"
      ],
      "text/plain": [
       "     Cand_Id Cand_Incumbent_Challenger_Open_Seat                   Cand_Name  \\\n",
       "0  S6AK00078                          CHALLENGER              CUDDY, DAVID W   \n",
       "1  S8AK00074                          CHALLENGER  CALDERO, ROCKY CHRISTOPHER   \n",
       "2  S8AK00082                          CHALLENGER               METCALFE, RAY   \n",
       "3  S8AK00108                          CHALLENGER     SIKMA, RODERIC H 'RICK'   \n",
       "4  S8AK00124                          CHALLENGER      VICKERS, RAYMOND B VIC   \n",
       "\n",
       "  Cand_Office Cand_Office_St Cand_Party_Affiliation Cand_State  \\\n",
       "0           S             AK                    REP         AK   \n",
       "1           S             AK                    DEM         AK   \n",
       "2           S             AK                    DEM         AK   \n",
       "3           S             AK                    REP         AK   \n",
       "4           S             AK                    REP         AK   \n",
       "\n",
       "   GE WINNER INDICATOR  Individual_Contribution  Other_Committee_Contribution  \\\n",
       "0                    0                  31261.0                         260.0   \n",
       "1                    0                  31622.0                           0.0   \n",
       "2                    0                  30267.0                           0.0   \n",
       "3                    0                   4746.0                           0.0   \n",
       "4                    0                  10215.0                           0.0   \n",
       "\n",
       "   Party_Committee_Contribution  Total_Disbursement  Total_Receipt  year  \n",
       "0                           0.0            862663.0       862661.0  2008  \n",
       "1                           0.0             25891.0        32004.0  2008  \n",
       "2                           0.0             30562.0        30309.0  2008  \n",
       "3                           0.0             12203.0        11996.0  2008  \n",
       "4                           0.0           1010617.0      1055221.0  2008  "
      ]
     },
     "execution_count": 6,
     "metadata": {},
     "output_type": "execute_result"
    }
   ],
   "source": [
    "# Let's pull the candidates info \n",
    "senate_cand = pd.read_csv(\"senate.csv\")\n",
    "\n",
    "total_winners = senate_cand[senate_cand[\"GE WINNER INDICATOR\"] == 1].count()[0]\n",
    "\n",
    "senate_cand.head()"
   ]
  },
  {
   "cell_type": "code",
   "execution_count": null,
   "metadata": {},
   "outputs": [],
   "source": []
  },
  {
   "cell_type": "code",
   "execution_count": null,
   "metadata": {},
   "outputs": [],
   "source": []
  },
  {
   "cell_type": "code",
   "execution_count": null,
   "metadata": {},
   "outputs": [],
   "source": []
  },
  {
   "cell_type": "code",
   "execution_count": null,
   "metadata": {},
   "outputs": [],
   "source": []
  },
  {
   "cell_type": "code",
   "execution_count": null,
   "metadata": {},
   "outputs": [],
   "source": []
  },
  {
   "cell_type": "code",
   "execution_count": 7,
   "metadata": {},
   "outputs": [
    {
     "name": "stdout",
     "output_type": "stream",
     "text": [
      "Probability of a candidate winning if he/she has highest individual contribution in their state:  0.74\n"
     ]
    }
   ],
   "source": [
    "top_ind_contri = senate_cand.loc[senate_cand.groupby('Cand_Office_St')[\"Individual_Contribution\"].idxmax()]\n",
    "no_of_states = top_ind_contri.shape[0]\n",
    "no_of_winner = top_ind_contri[top_ind_contri[\"GE WINNER INDICATOR\"] == 1].count()[0]\n",
    "print(\"Probability of a candidate winning if he/she has highest individual contribution in their state: \",no_of_winner/no_of_states)"
   ]
  },
  {
   "cell_type": "code",
   "execution_count": 8,
   "metadata": {},
   "outputs": [
    {
     "name": "stdout",
     "output_type": "stream",
     "text": [
      "Probability of a candidate winning if he/she has highest Other committee contribution in their state:  0.82\n"
     ]
    }
   ],
   "source": [
    "other_committee_contri = senate_cand.loc[senate_cand.groupby('Cand_Office_St')[\"Other_Committee_Contribution\"].idxmax()]\n",
    "no_of_winner = other_committee_contri[other_committee_contri[\"GE WINNER INDICATOR\"] == 1].count()[0]\n",
    "print(\"Probability of a candidate winning if he/she has highest Other committee contribution in their state: \",no_of_winner/no_of_states)\n"
   ]
  },
  {
   "cell_type": "code",
   "execution_count": 9,
   "metadata": {},
   "outputs": [
    {
     "name": "stdout",
     "output_type": "stream",
     "text": [
      "Probability of a candidate winning if he/she has highest total disbursement in their state:  0.62\n"
     ]
    }
   ],
   "source": [
    "total_disbur = senate_cand.loc[senate_cand.groupby('Cand_Office_St')[\"Total_Disbursement\"].idxmax()]\n",
    "no_of_winner = total_disbur[total_disbur[\"GE WINNER INDICATOR\"] == 1].count()[0]\n",
    "print(\"Probability of a candidate winning if he/she has highest total disbursement in their state: \",no_of_winner/no_of_states)\n"
   ]
  },
  {
   "cell_type": "code",
   "execution_count": null,
   "metadata": {},
   "outputs": [],
   "source": []
  }
 ],
 "metadata": {
  "kernelspec": {
   "display_name": "Python 3",
   "language": "python",
   "name": "python3"
  },
  "language_info": {
   "codemirror_mode": {
    "name": "ipython",
    "version": 3
   },
   "file_extension": ".py",
   "mimetype": "text/x-python",
   "name": "python",
   "nbconvert_exporter": "python",
   "pygments_lexer": "ipython3",
   "version": "3.6.5"
  }
 },
 "nbformat": 4,
 "nbformat_minor": 2
}

{
 "cells": [
  {
   "cell_type": "code",
   "execution_count": 2,
   "metadata": {},
   "outputs": [],
   "source": [
    "import pandas as pd\n",
    "import matplotlib.pyplot as plt\n",
    "import seaborn as sns\n",
    "sns.set()"
   ]
  },
  {
   "cell_type": "code",
   "execution_count": 3,
   "metadata": {},
   "outputs": [],
   "source": [
    "# Let's pull the candidates info \n",
    "\n",
    "candidate = pd.read_csv(\"data/candidate_summary_2014.csv\")\n",
    "senate_candidates = candidate[candidate['Cand_Office'] == \"S\"]\n",
    "senate_candidates = senate_candidates.filter(items=['Cand_Id',\"Cand_Office_St\",\"Cand_Incumbent_Challenger_Open_Seat\"])\n",
    "# https://classic.fec.gov/finance/disclosure/metadata/DataDictionaryCandidateMaster.shtml"
   ]
  },
  {
   "cell_type": "code",
   "execution_count": 4,
   "metadata": {},
   "outputs": [
    {
     "data": {
      "text/html": [
       "<div>\n",
       "<style scoped>\n",
       "    .dataframe tbody tr th:only-of-type {\n",
       "        vertical-align: middle;\n",
       "    }\n",
       "\n",
       "    .dataframe tbody tr th {\n",
       "        vertical-align: top;\n",
       "    }\n",
       "\n",
       "    .dataframe thead th {\n",
       "        text-align: right;\n",
       "    }\n",
       "</style>\n",
       "<table border=\"1\" class=\"dataframe\">\n",
       "  <thead>\n",
       "    <tr style=\"text-align: right;\">\n",
       "      <th></th>\n",
       "      <th>Cand_Id</th>\n",
       "      <th>Cand_Office_St</th>\n",
       "      <th>Cand_Incumbent_Challenger_Open_Seat</th>\n",
       "    </tr>\n",
       "  </thead>\n",
       "  <tbody>\n",
       "    <tr>\n",
       "      <th>0</th>\n",
       "      <td>S8AK00090</td>\n",
       "      <td>AK</td>\n",
       "      <td>INCUMBENT</td>\n",
       "    </tr>\n",
       "    <tr>\n",
       "      <th>14</th>\n",
       "      <td>S4AK00214</td>\n",
       "      <td>AK</td>\n",
       "      <td>CHALLENGER</td>\n",
       "    </tr>\n",
       "    <tr>\n",
       "      <th>19</th>\n",
       "      <td>S4AK00206</td>\n",
       "      <td>AK</td>\n",
       "      <td>CHALLENGER</td>\n",
       "    </tr>\n",
       "    <tr>\n",
       "      <th>23</th>\n",
       "      <td>S0AK00121</td>\n",
       "      <td>AK</td>\n",
       "      <td>CHALLENGER</td>\n",
       "    </tr>\n",
       "    <tr>\n",
       "      <th>24</th>\n",
       "      <td>S4AK00198</td>\n",
       "      <td>AK</td>\n",
       "      <td>CHALLENGER</td>\n",
       "    </tr>\n",
       "  </tbody>\n",
       "</table>\n",
       "</div>"
      ],
      "text/plain": [
       "      Cand_Id Cand_Office_St Cand_Incumbent_Challenger_Open_Seat\n",
       "0   S8AK00090             AK                           INCUMBENT\n",
       "14  S4AK00214             AK                          CHALLENGER\n",
       "19  S4AK00206             AK                          CHALLENGER\n",
       "23  S0AK00121             AK                          CHALLENGER\n",
       "24  S4AK00198             AK                          CHALLENGER"
      ]
     },
     "execution_count": 4,
     "metadata": {},
     "output_type": "execute_result"
    }
   ],
   "source": [
    "# Let's only look at the top spender in the state\n",
    "# top_spender = senate_candidates[senate_candidates['elec_yr'] == 2014]\n",
    "senate_candidates.head()"
   ]
  },
  {
   "cell_type": "code",
   "execution_count": 5,
   "metadata": {},
   "outputs": [
    {
     "name": "stderr",
     "output_type": "stream",
     "text": [
      "C:\\Users\\Amit\\Anaconda3\\lib\\site-packages\\ipykernel_launcher.py:8: SettingWithCopyWarning: \n",
      "A value is trying to be set on a copy of a slice from a DataFrame.\n",
      "Try using .loc[row_indexer,col_indexer] = value instead\n",
      "\n",
      "See the caveats in the documentation: http://pandas.pydata.org/pandas-docs/stable/indexing.html#indexing-view-versus-copy\n",
      "  \n"
     ]
    }
   ],
   "source": [
    "# It's time to pull the election results data \n",
    "# \n",
    "results = pd.read_excel(\"data/results14.xls\",sheet_name=\"2014 US Senate Results by State\")\n",
    "results = results.filter(items=['GE WINNER INDICATOR',\"Candidate_Id\",\"STATE\",\"CANDIDATE NAME\"])\n",
    "senate_results = results[results[\"GE WINNER INDICATOR\"] == \"W\"]\n",
    "\n",
    "temp = senate_results[\"Candidate_Id\"].str.strip()\n",
    "senate_results[\"Candidate_Id\"] = temp\n"
   ]
  },
  {
   "cell_type": "code",
   "execution_count": 6,
   "metadata": {},
   "outputs": [
    {
     "data": {
      "text/html": [
       "<div>\n",
       "<style scoped>\n",
       "    .dataframe tbody tr th:only-of-type {\n",
       "        vertical-align: middle;\n",
       "    }\n",
       "\n",
       "    .dataframe tbody tr th {\n",
       "        vertical-align: top;\n",
       "    }\n",
       "\n",
       "    .dataframe thead th {\n",
       "        text-align: right;\n",
       "    }\n",
       "</style>\n",
       "<table border=\"1\" class=\"dataframe\">\n",
       "  <thead>\n",
       "    <tr style=\"text-align: right;\">\n",
       "      <th></th>\n",
       "      <th>Candidate_Id</th>\n",
       "      <th>GE WINNER INDICATOR</th>\n",
       "    </tr>\n",
       "  </thead>\n",
       "  <tbody>\n",
       "    <tr>\n",
       "      <th>0</th>\n",
       "      <td>S6AL00195</td>\n",
       "      <td>W</td>\n",
       "    </tr>\n",
       "    <tr>\n",
       "      <th>4</th>\n",
       "      <td>S4AK00214</td>\n",
       "      <td>W</td>\n",
       "    </tr>\n",
       "    <tr>\n",
       "      <th>23</th>\n",
       "      <td>S4AR00103</td>\n",
       "      <td>W</td>\n",
       "    </tr>\n",
       "    <tr>\n",
       "      <th>30</th>\n",
       "      <td>S4CO00395</td>\n",
       "      <td>W</td>\n",
       "    </tr>\n",
       "    <tr>\n",
       "      <th>42</th>\n",
       "      <td>S0DE00092</td>\n",
       "      <td>W</td>\n",
       "    </tr>\n",
       "  </tbody>\n",
       "</table>\n",
       "</div>"
      ],
      "text/plain": [
       "   Candidate_Id GE WINNER INDICATOR\n",
       "0     S6AL00195                   W\n",
       "4     S4AK00214                   W\n",
       "23    S4AR00103                   W\n",
       "30    S4CO00395                   W\n",
       "42    S0DE00092                   W"
      ]
     },
     "execution_count": 6,
     "metadata": {},
     "output_type": "execute_result"
    }
   ],
   "source": [
    "senate_results = senate_results.filter(items=['Candidate_Id',\"GE WINNER INDICATOR\"]) \n",
    "senate_results.head()"
   ]
  },
  {
   "cell_type": "code",
   "execution_count": 7,
   "metadata": {},
   "outputs": [
    {
     "data": {
      "text/html": [
       "<div>\n",
       "<style scoped>\n",
       "    .dataframe tbody tr th:only-of-type {\n",
       "        vertical-align: middle;\n",
       "    }\n",
       "\n",
       "    .dataframe tbody tr th {\n",
       "        vertical-align: top;\n",
       "    }\n",
       "\n",
       "    .dataframe thead th {\n",
       "        text-align: right;\n",
       "    }\n",
       "</style>\n",
       "<table border=\"1\" class=\"dataframe\">\n",
       "  <thead>\n",
       "    <tr style=\"text-align: right;\">\n",
       "      <th></th>\n",
       "      <th>Cand_Id</th>\n",
       "      <th>Cand_Office_St</th>\n",
       "      <th>Cand_Incumbent_Challenger_Open_Seat</th>\n",
       "      <th>Candidate_Id</th>\n",
       "      <th>GE WINNER INDICATOR</th>\n",
       "    </tr>\n",
       "  </thead>\n",
       "  <tbody>\n",
       "    <tr>\n",
       "      <th>1</th>\n",
       "      <td>S4AK00214</td>\n",
       "      <td>AK</td>\n",
       "      <td>CHALLENGER</td>\n",
       "      <td>S4AK00214</td>\n",
       "      <td>W</td>\n",
       "    </tr>\n",
       "    <tr>\n",
       "      <th>14</th>\n",
       "      <td>S6AL00195</td>\n",
       "      <td>AL</td>\n",
       "      <td>INCUMBENT</td>\n",
       "      <td>S6AL00195</td>\n",
       "      <td>W</td>\n",
       "    </tr>\n",
       "    <tr>\n",
       "      <th>16</th>\n",
       "      <td>S4AR00103</td>\n",
       "      <td>AR</td>\n",
       "      <td>CHALLENGER</td>\n",
       "      <td>S4AR00103</td>\n",
       "      <td>W</td>\n",
       "    </tr>\n",
       "    <tr>\n",
       "      <th>22</th>\n",
       "      <td>S4CO00395</td>\n",
       "      <td>CO</td>\n",
       "      <td>CHALLENGER</td>\n",
       "      <td>S4CO00395</td>\n",
       "      <td>W</td>\n",
       "    </tr>\n",
       "    <tr>\n",
       "      <th>37</th>\n",
       "      <td>S0DE00092</td>\n",
       "      <td>DE</td>\n",
       "      <td>INCUMBENT</td>\n",
       "      <td>S0DE00092</td>\n",
       "      <td>W</td>\n",
       "    </tr>\n",
       "  </tbody>\n",
       "</table>\n",
       "</div>"
      ],
      "text/plain": [
       "      Cand_Id Cand_Office_St Cand_Incumbent_Challenger_Open_Seat Candidate_Id  \\\n",
       "1   S4AK00214             AK                          CHALLENGER    S4AK00214   \n",
       "14  S6AL00195             AL                           INCUMBENT    S6AL00195   \n",
       "16  S4AR00103             AR                          CHALLENGER    S4AR00103   \n",
       "22  S4CO00395             CO                          CHALLENGER    S4CO00395   \n",
       "37  S0DE00092             DE                           INCUMBENT    S0DE00092   \n",
       "\n",
       "   GE WINNER INDICATOR  \n",
       "1                    W  \n",
       "14                   W  \n",
       "16                   W  \n",
       "22                   W  \n",
       "37                   W  "
      ]
     },
     "execution_count": 7,
     "metadata": {},
     "output_type": "execute_result"
    }
   ],
   "source": [
    "# Let's left join the results on senate candidates\n",
    "\n",
    "# candidate_result = senate_candidates.set_index('id').join(result.set_index('Candidate ID'))\n",
    "candidate_result = pd.merge(senate_candidates,senate_results, how = 'left', left_on = 'Cand_Id', right_on = 'Candidate_Id')\n",
    "candidate_result[candidate_result[\"GE WINNER INDICATOR\"] == \"W\"].head()"
   ]
  },
  {
   "cell_type": "code",
   "execution_count": 8,
   "metadata": {},
   "outputs": [],
   "source": [
    "candidate_result = candidate_result.fillna(0)\n",
    "candidate_result = candidate_result.replace(\"W\",1)\n",
    "# candidate_result[candidate_result[\"add_state\"] == 0].filter(items=['state', 'add_state',\"Winners\"])\n",
    "total_winners = candidate_result[candidate_result[\"GE WINNER INDICATOR\"] == 1].count()[0]\n",
    "# total_winners"
   ]
  },
  {
   "cell_type": "code",
   "execution_count": 9,
   "metadata": {},
   "outputs": [
    {
     "data": {
      "text/plain": [
       "6"
      ]
     },
     "execution_count": 9,
     "metadata": {},
     "output_type": "execute_result"
    }
   ],
   "source": [
    "open_cand = candidate_result[candidate_result['Cand_Incumbent_Challenger_Open_Seat'] == \"OPEN\"]\n",
    "winning_open = open_cand[open_cand[\"GE WINNER INDICATOR\"] == 1] \n",
    "prob_open = winning_open.count()[0]/open_cand.count()[0]\n",
    "winning_open.count()[0]"
   ]
  },
  {
   "cell_type": "code",
   "execution_count": 10,
   "metadata": {},
   "outputs": [
    {
     "data": {
      "text/plain": [
       "24"
      ]
     },
     "execution_count": 10,
     "metadata": {},
     "output_type": "execute_result"
    }
   ],
   "source": [
    "incumbents = candidate_result[candidate_result['Cand_Incumbent_Challenger_Open_Seat'] == \"INCUMBENT\"]\n",
    "winning_incumbents = incumbents[incumbents[\"GE WINNER INDICATOR\"] == 1] \n",
    "prob_incumbents = winning_incumbents.count()[0]/(total_winners - winning_open.count()[0])\n",
    "winning_incumbents.count()[0]"
   ]
  },
  {
   "cell_type": "code",
   "execution_count": 11,
   "metadata": {},
   "outputs": [
    {
     "data": {
      "text/plain": [
       "6"
      ]
     },
     "execution_count": 11,
     "metadata": {},
     "output_type": "execute_result"
    }
   ],
   "source": [
    "challengers = candidate_result[candidate_result['Cand_Incumbent_Challenger_Open_Seat'] == \"CHALLENGER\"]\n",
    "winning_challengers = challengers[challengers[\"GE WINNER INDICATOR\"] == 1] \n",
    "prob_challengers = winning_challengers.count()[0]/(total_winners - winning_open.count()[0])\n",
    "winning_challengers.count()[0]"
   ]
  },
  {
   "cell_type": "code",
   "execution_count": 13,
   "metadata": {},
   "outputs": [
    {
     "data": {
      "image/png": "[encoded data removed]",
      "text/plain": [
       "<Figure size 352.8x504 with 1 Axes>"
      ]
     },
     "metadata": {},
     "output_type": "display_data"
    }
   ],
   "source": [
    "sns.set()\n",
    "plot = pd.DataFrame({\"Candidate Status\":[\"Incumbent\",\"Challenger\"],\"Probability of winning\":[prob_incumbents,prob_challengers]})\n",
    "g = sns.factorplot(x=\"Candidate Status\", y=\"Probability of winning\",data=plot, kind='bar',size=7, aspect=0.7)\n",
    "for ax in g.axes.flatten():\n",
    "    ax.set_xlabel('')\n",
    "    ax.set_title('Chances of winning: Incumbent vs Challenger')\n",
    "    g.savefig(\"incumbent.jpg\",dpi=1000)\n"
   ]
  },
  {
   "cell_type": "code",
   "execution_count": null,
   "metadata": {},
   "outputs": [],
   "source": []
  }
 ],
 "metadata": {
  "kernelspec": {
   "display_name": "Python 3",
   "language": "python",
   "name": "python3"
  },
  "language_info": {
   "codemirror_mode": {
    "name": "ipython",
    "version": 3
   },
   "file_extension": ".py",
   "mimetype": "text/x-python",
   "name": "python",
   "nbconvert_exporter": "python",
   "pygments_lexer": "ipython3",
   "version": "3.6.5"
  }
 },
 "nbformat": 4,
 "nbformat_minor": 2
}

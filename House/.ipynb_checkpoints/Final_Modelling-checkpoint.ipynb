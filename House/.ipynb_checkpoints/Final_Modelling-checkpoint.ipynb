{
 "cells": [
  {
   "cell_type": "code",
   "execution_count": 5,
   "metadata": {},
   "outputs": [],
   "source": [
    "import pandas as pd\n",
    "x1= pd.read_excel(\"Train.xlsx\")\n",
    "#x1= pd.read_csv(\"C:/Users/LENOVO/Desktop/datasets/Before Model/25_house_dataset98.csv\")\n",
    "y1=x1['GE WINNER INDICATOR']\n",
    "x1=x1.drop(['Cand_Office_Dist','STATE ABBREVIATION','Cand_State','Cand_Name', 'FEC ID#', 'Cand_Incumbent_Challenger_Open_Seat', 'Cand_State',    'CANDIDATE NAME', 'PARTY', 'GE WINNER INDICATOR'], axis=1)\n",
    "#x1.head()\n"
   ]
  },
  {
   "cell_type": "code",
   "execution_count": 6,
   "metadata": {},
   "outputs": [],
   "source": [
    "#x2= pd.read_csv(\"C:/Users/LENOVO/Desktop/datasets/Before Model/8 to 16/Test.csv\")\n",
    "x2= pd.read_csv(\"25_house_dataset18.csv\")\n",
    "#test_dis=x2['Cand_Office_Dist']\n",
    "#test_states=x2['STATE ABBREVIATION']\n",
    "y2=x2['GE WINNER INDICATOR']\n",
    "x2=x2.drop(['Cand_Office_Dist','STATE ABBREVIATION','Cand_State','Cand_Name', 'FEC ID#', 'Cand_Incumbent_Challenger_Open_Seat', 'Cand_State',    'CANDIDATE NAME', 'PARTY', 'GE WINNER INDICATOR'], axis=1)\n",
    "#x2.head()"
   ]
  },
  {
   "cell_type": "code",
   "execution_count": 7,
   "metadata": {},
   "outputs": [
    {
     "data": {
      "text/html": [
       "<div>\n",
       "<style scoped>\n",
       "    .dataframe tbody tr th:only-of-type {\n",
       "        vertical-align: middle;\n",
       "    }\n",
       "\n",
       "    .dataframe tbody tr th {\n",
       "        vertical-align: top;\n",
       "    }\n",
       "\n",
       "    .dataframe thead th {\n",
       "        text-align: right;\n",
       "    }\n",
       "</style>\n",
       "<table border=\"1\" class=\"dataframe\">\n",
       "  <thead>\n",
       "    <tr style=\"text-align: right;\">\n",
       "      <th></th>\n",
       "      <th>Total_Receipt</th>\n",
       "      <th>Total_Disbursement</th>\n",
       "      <th>Individual_Contribution</th>\n",
       "      <th>Other_Committee_Contribution</th>\n",
       "      <th>Party_Committee_Contribution</th>\n",
       "      <th>top_individual_contribution</th>\n",
       "      <th>top_total_disbursement</th>\n",
       "      <th>top_other_comm_contribution</th>\n",
       "      <th>top_party_comm_contribution</th>\n",
       "      <th>incumbent</th>\n",
       "      <th>...</th>\n",
       "      <th>Cand_Office_Dist_44</th>\n",
       "      <th>Cand_Office_Dist_45</th>\n",
       "      <th>Cand_Office_Dist_46</th>\n",
       "      <th>Cand_Office_Dist_47</th>\n",
       "      <th>Cand_Office_Dist_48</th>\n",
       "      <th>Cand_Office_Dist_49</th>\n",
       "      <th>Cand_Office_Dist_50</th>\n",
       "      <th>Cand_Office_Dist_51</th>\n",
       "      <th>Cand_Office_Dist_52</th>\n",
       "      <th>Cand_Office_Dist_53</th>\n",
       "    </tr>\n",
       "  </thead>\n",
       "  <tbody>\n",
       "    <tr>\n",
       "      <th>0</th>\n",
       "      <td>0.00</td>\n",
       "      <td>0.00</td>\n",
       "      <td>0.00</td>\n",
       "      <td>0.0</td>\n",
       "      <td>0.0</td>\n",
       "      <td>0</td>\n",
       "      <td>0</td>\n",
       "      <td>0</td>\n",
       "      <td>1</td>\n",
       "      <td>0</td>\n",
       "      <td>...</td>\n",
       "      <td>0</td>\n",
       "      <td>0</td>\n",
       "      <td>0</td>\n",
       "      <td>0</td>\n",
       "      <td>0</td>\n",
       "      <td>0</td>\n",
       "      <td>0</td>\n",
       "      <td>0</td>\n",
       "      <td>0</td>\n",
       "      <td>0</td>\n",
       "    </tr>\n",
       "    <tr>\n",
       "      <th>1</th>\n",
       "      <td>208733.34</td>\n",
       "      <td>95843.54</td>\n",
       "      <td>58188.98</td>\n",
       "      <td>0.0</td>\n",
       "      <td>0.0</td>\n",
       "      <td>0</td>\n",
       "      <td>0</td>\n",
       "      <td>0</td>\n",
       "      <td>1</td>\n",
       "      <td>0</td>\n",
       "      <td>...</td>\n",
       "      <td>0</td>\n",
       "      <td>0</td>\n",
       "      <td>0</td>\n",
       "      <td>0</td>\n",
       "      <td>0</td>\n",
       "      <td>0</td>\n",
       "      <td>0</td>\n",
       "      <td>0</td>\n",
       "      <td>0</td>\n",
       "      <td>0</td>\n",
       "    </tr>\n",
       "    <tr>\n",
       "      <th>2</th>\n",
       "      <td>1041376.50</td>\n",
       "      <td>1159938.28</td>\n",
       "      <td>555031.33</td>\n",
       "      <td>481911.9</td>\n",
       "      <td>0.0</td>\n",
       "      <td>0</td>\n",
       "      <td>0</td>\n",
       "      <td>1</td>\n",
       "      <td>1</td>\n",
       "      <td>1</td>\n",
       "      <td>...</td>\n",
       "      <td>0</td>\n",
       "      <td>0</td>\n",
       "      <td>0</td>\n",
       "      <td>0</td>\n",
       "      <td>0</td>\n",
       "      <td>0</td>\n",
       "      <td>0</td>\n",
       "      <td>0</td>\n",
       "      <td>0</td>\n",
       "      <td>0</td>\n",
       "    </tr>\n",
       "    <tr>\n",
       "      <th>3</th>\n",
       "      <td>8988.48</td>\n",
       "      <td>7803.97</td>\n",
       "      <td>7100.05</td>\n",
       "      <td>0.0</td>\n",
       "      <td>0.0</td>\n",
       "      <td>0</td>\n",
       "      <td>0</td>\n",
       "      <td>0</td>\n",
       "      <td>0</td>\n",
       "      <td>0</td>\n",
       "      <td>...</td>\n",
       "      <td>0</td>\n",
       "      <td>0</td>\n",
       "      <td>0</td>\n",
       "      <td>0</td>\n",
       "      <td>0</td>\n",
       "      <td>0</td>\n",
       "      <td>0</td>\n",
       "      <td>0</td>\n",
       "      <td>0</td>\n",
       "      <td>0</td>\n",
       "    </tr>\n",
       "    <tr>\n",
       "      <th>4</th>\n",
       "      <td>0.00</td>\n",
       "      <td>0.00</td>\n",
       "      <td>0.00</td>\n",
       "      <td>0.0</td>\n",
       "      <td>0.0</td>\n",
       "      <td>0</td>\n",
       "      <td>0</td>\n",
       "      <td>0</td>\n",
       "      <td>0</td>\n",
       "      <td>0</td>\n",
       "      <td>...</td>\n",
       "      <td>0</td>\n",
       "      <td>0</td>\n",
       "      <td>0</td>\n",
       "      <td>0</td>\n",
       "      <td>0</td>\n",
       "      <td>0</td>\n",
       "      <td>0</td>\n",
       "      <td>0</td>\n",
       "      <td>0</td>\n",
       "      <td>0</td>\n",
       "    </tr>\n",
       "  </tbody>\n",
       "</table>\n",
       "<p>5 rows × 123 columns</p>\n",
       "</div>"
      ],
      "text/plain": [
       "   Total_Receipt  Total_Disbursement  Individual_Contribution  \\\n",
       "0           0.00                0.00                     0.00   \n",
       "1      208733.34            95843.54                 58188.98   \n",
       "2     1041376.50          1159938.28                555031.33   \n",
       "3        8988.48             7803.97                  7100.05   \n",
       "4           0.00                0.00                     0.00   \n",
       "\n",
       "   Other_Committee_Contribution  Party_Committee_Contribution  \\\n",
       "0                           0.0                           0.0   \n",
       "1                           0.0                           0.0   \n",
       "2                      481911.9                           0.0   \n",
       "3                           0.0                           0.0   \n",
       "4                           0.0                           0.0   \n",
       "\n",
       "   top_individual_contribution  top_total_disbursement  \\\n",
       "0                            0                       0   \n",
       "1                            0                       0   \n",
       "2                            0                       0   \n",
       "3                            0                       0   \n",
       "4                            0                       0   \n",
       "\n",
       "   top_other_comm_contribution  top_party_comm_contribution  incumbent  \\\n",
       "0                            0                            1          0   \n",
       "1                            0                            1          0   \n",
       "2                            1                            1          1   \n",
       "3                            0                            0          0   \n",
       "4                            0                            0          0   \n",
       "\n",
       "          ...           Cand_Office_Dist_44  Cand_Office_Dist_45  \\\n",
       "0         ...                             0                    0   \n",
       "1         ...                             0                    0   \n",
       "2         ...                             0                    0   \n",
       "3         ...                             0                    0   \n",
       "4         ...                             0                    0   \n",
       "\n",
       "   Cand_Office_Dist_46  Cand_Office_Dist_47  Cand_Office_Dist_48  \\\n",
       "0                    0                    0                    0   \n",
       "1                    0                    0                    0   \n",
       "2                    0                    0                    0   \n",
       "3                    0                    0                    0   \n",
       "4                    0                    0                    0   \n",
       "\n",
       "   Cand_Office_Dist_49  Cand_Office_Dist_50  Cand_Office_Dist_51  \\\n",
       "0                    0                    0                    0   \n",
       "1                    0                    0                    0   \n",
       "2                    0                    0                    0   \n",
       "3                    0                    0                    0   \n",
       "4                    0                    0                    0   \n",
       "\n",
       "   Cand_Office_Dist_52  Cand_Office_Dist_53  \n",
       "0                    0                    0  \n",
       "1                    0                    0  \n",
       "2                    0                    0  \n",
       "3                    0                    0  \n",
       "4                    0                    0  \n",
       "\n",
       "[5 rows x 123 columns]"
      ]
     },
     "execution_count": 7,
     "metadata": {},
     "output_type": "execute_result"
    }
   ],
   "source": [
    "x2.head()\n",
    "#temp=x2.groupby(['Cand_State',\"Cand_Office_Dist\"]).agg({'GE WINNER INDICATOR': 'sum','Cand_State':'first',\"Cand_Office_Dist\":'first'})\n"
   ]
  },
  {
   "cell_type": "code",
   "execution_count": 8,
   "metadata": {},
   "outputs": [],
   "source": [
    "#x2.drop(ind_rem)"
   ]
  },
  {
   "cell_type": "code",
   "execution_count": 9,
   "metadata": {},
   "outputs": [],
   "source": [
    "#temp1\n",
    "#x2[(x2['Cand_State'].isin(state_rem)) & (x2['Cand_Office_Dist'].isin(dis_rem)) ].shape"
   ]
  },
  {
   "cell_type": "markdown",
   "metadata": {},
   "source": [
    "# RF"
   ]
  },
  {
   "cell_type": "code",
   "execution_count": 10,
   "metadata": {},
   "outputs": [
    {
     "ename": "NameError",
     "evalue": "name 'RandomForestClassifier' is not defined",
     "output_type": "error",
     "traceback": [
      "\u001b[1;31m---------------------------------------------------------------------------\u001b[0m",
      "\u001b[1;31mNameError\u001b[0m                                 Traceback (most recent call last)",
      "\u001b[1;32m<ipython-input-10-0c71604eb0f4>\u001b[0m in \u001b[0;36m<module>\u001b[1;34m()\u001b[0m\n\u001b[1;32m----> 1\u001b[1;33m clf = RandomForestClassifier(n_estimators=100, max_depth=2,\n\u001b[0m\u001b[0;32m      2\u001b[0m                              random_state=0)\n\u001b[0;32m      3\u001b[0m \u001b[0mclf\u001b[0m\u001b[1;33m.\u001b[0m\u001b[0mfit\u001b[0m\u001b[1;33m(\u001b[0m\u001b[0mx1\u001b[0m\u001b[1;33m,\u001b[0m \u001b[0my1\u001b[0m\u001b[1;33m)\u001b[0m\u001b[1;33m\u001b[0m\u001b[0m\n\u001b[0;32m      4\u001b[0m \u001b[1;33m\u001b[0m\u001b[0m\n\u001b[0;32m      5\u001b[0m \u001b[0my_pred\u001b[0m\u001b[1;33m=\u001b[0m \u001b[0mclf\u001b[0m\u001b[1;33m.\u001b[0m\u001b[0mpredict\u001b[0m\u001b[1;33m(\u001b[0m\u001b[0mx2\u001b[0m\u001b[1;33m)\u001b[0m\u001b[1;33m\u001b[0m\u001b[0m\n",
      "\u001b[1;31mNameError\u001b[0m: name 'RandomForestClassifier' is not defined"
     ]
    }
   ],
   "source": [
    "clf = RandomForestClassifier(n_estimators=100, max_depth=2,\n",
    "                             random_state=0)\n",
    "clf.fit(x1, y1)\n",
    "\n",
    "y_pred= clf.predict(x2)\n",
    "#score(clf, x2, y2) \n",
    "y_prob=clf.predict_proba(x2)[:,1]\n",
    "count=0\n",
    "y2=list(y2)\n",
    "#metrics.accuracy_score(y2, y_pred)\n",
    "for i in range(len(y_pred)):\n",
    "    if int(y_pred[i])==int(y2[i]):\n",
    "        count=count+1\n",
    "print(count/len(y_pred))"
   ]
  },
  {
   "cell_type": "code",
   "execution_count": null,
   "metadata": {},
   "outputs": [],
   "source": [
    "from sklearn.metrics import confusion_matrix\n",
    "tn,fp,fn,tp=confusion_matrix(y2, y_pred).ravel()\n",
    "precision=tp/(tp+fp)\n",
    "recall= tp/(tp+fn)\n",
    "print(\"Precision \",precision)\n",
    "print(\"Recall \",recall)\n",
    "\n",
    "f1=2*((precision*recall)/(precision+recall))\n",
    "print(\"F1 Score \",f1)"
   ]
  },
  {
   "cell_type": "code",
   "execution_count": null,
   "metadata": {},
   "outputs": [],
   "source": [
    "print(\"AUC: \" + str(roc_auc_score(y2, y_prob)))"
   ]
  },
  {
   "cell_type": "code",
   "execution_count": null,
   "metadata": {},
   "outputs": [],
   "source": [
    "Cand_Party_Affiliation_DEM\tCand_Party_Affiliation_OTHER\tCand_Party_Affiliation_REP\n"
   ]
  },
  {
   "cell_type": "code",
   "execution_count": null,
   "metadata": {},
   "outputs": [],
   "source": [
    "x2[\"pred\"]=y_pred\n",
    "x2[\"Actual\"]=y2"
   ]
  },
  {
   "cell_type": "code",
   "execution_count": null,
   "metadata": {},
   "outputs": [],
   "source": [
    "x2[(x2[\"pred\"]==1) & (x2['Cand_Party_Affiliation_DEM']==1)].shape\n",
    "#x2[(x2[\"pred\"]==1) & (x2['Cand_Party_Affiliation_REP']==1)].shape\n",
    "#x2[(x2[\"pred\"]==1) & (x2['Cand_Party_Affiliation_OTHER']==1)].shape\n"
   ]
  },
  {
   "cell_type": "markdown",
   "metadata": {},
   "source": [
    "# KNN"
   ]
  },
  {
   "cell_type": "code",
   "execution_count": null,
   "metadata": {},
   "outputs": [],
   "source": [
    "from sklearn.neighbors import KNeighborsClassifier\n",
    "#for k in range(1,12):\n",
    "knn = KNeighborsClassifier(n_neighbors=5)\n",
    "knn.fit(x1, y1)\n",
    "y_pred= clf.predict(x2)\n",
    "#score(clf, x2, y2) \n",
    "y_prob=clf.predict_proba(x2)[:,1]\n",
    "\n",
    "count=0\n",
    "y2=list(y2)\n",
    "#metrics.accuracy_score(y2, y_pred)\n",
    "for i in range(len(y_pred)):\n",
    "    if int(y_pred[i])==int(y2[i]):\n",
    "        count=count+1\n",
    "print( count/len(y_pred))"
   ]
  },
  {
   "cell_type": "code",
   "execution_count": null,
   "metadata": {},
   "outputs": [],
   "source": [
    "tn,fp,fn,tp=confusion_matrix(y2, y_pred).ravel()\n",
    "precision=tp/(tp+fp)\n",
    "recall= tp/(tp+fn)\n",
    "print(\"Precision \",precision)\n",
    "print(\"Recall \",recall)\n",
    "\n",
    "f1=2*((precision*recall)/(precision+recall))\n",
    "print(\"F1 Score \",f1)"
   ]
  },
  {
   "cell_type": "code",
   "execution_count": null,
   "metadata": {},
   "outputs": [],
   "source": [
    "print(\"AUC: \" + str(roc_auc_score(y2, y_prob)))"
   ]
  },
  {
   "cell_type": "markdown",
   "metadata": {},
   "source": [
    "# Logit"
   ]
  },
  {
   "cell_type": "code",
   "execution_count": null,
   "metadata": {},
   "outputs": [],
   "source": [
    "from sklearn.linear_model import LogisticRegression\n",
    "logreg = LogisticRegression()\n",
    "logreg.fit(x1,y1)\n",
    "y_pred = logreg.predict(x2)\n",
    "y_prob=clf.predict_proba(x2)[:,1]\n",
    "count=0\n",
    "for i in range(len(y_pred)):\n",
    "    if int(y_pred[i])==int(y2[i]):\n",
    "        count=count+1\n",
    "print(count/len(y_pred))"
   ]
  },
  {
   "cell_type": "code",
   "execution_count": null,
   "metadata": {},
   "outputs": [],
   "source": [
    "tn,fp,fn,tp=confusion_matrix(y2, y_pred).ravel()\n",
    "precision=tp/(tp+fp)\n",
    "recall= tp/(tp+fn)\n",
    "print(\"Precision \",precision)\n",
    "print(\"Recall \",recall)\n",
    "\n",
    "f1=2*((precision*recall)/(precision+recall))\n",
    "print(\"F1 Score \",f1)"
   ]
  },
  {
   "cell_type": "code",
   "execution_count": null,
   "metadata": {},
   "outputs": [],
   "source": [
    "print(\"AUC: \" + str(roc_auc_score(y2, y_prob)))"
   ]
  },
  {
   "cell_type": "code",
   "execution_count": null,
   "metadata": {},
   "outputs": [],
   "source": [
    "from sklearn.svm import SVC\n",
    "from sklearn import svm\n",
    "c_values = [0.01,0.03,0.1,0.3,1,3,10,30,100,300]\n",
    "s = svm.SVC(gamma='scale')\n",
    "s.fit(x1,y1) \n",
    "y_pred= s.predict(x2)\n",
    "y_prob=s.predict_proba(x2)[:,1]\n",
    "count=0\n",
    "for i in range(len(y_pred)):\n",
    "    if int(y_pred[i])==int(y2[i]):\n",
    "        count=count+1\n",
    "print(count/len(y_pred))\n"
   ]
  }
 ],
 "metadata": {
  "kernelspec": {
   "display_name": "Python 3",
   "language": "python",
   "name": "python3"
  },
  "language_info": {
   "codemirror_mode": {
    "name": "ipython",
    "version": 3
   },
   "file_extension": ".py",
   "mimetype": "text/x-python",
   "name": "python",
   "nbconvert_exporter": "python",
   "pygments_lexer": "ipython3",
   "version": "3.6.5"
  }
 },
 "nbformat": 4,
 "nbformat_minor": 2
}

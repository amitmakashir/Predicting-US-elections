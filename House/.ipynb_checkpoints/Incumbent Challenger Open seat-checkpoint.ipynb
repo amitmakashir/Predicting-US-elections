{
 "cells": [
  {
   "cell_type": "code",
   "execution_count": 2,
   "metadata": {},
   "outputs": [],
   "source": [
    "import pandas as pd\n",
    "import matplotlib.pyplot as plt\n",
    "import seaborn as sns\n",
    "sns.set()"
   ]
  },
  {
   "cell_type": "code",
   "execution_count": null,
   "metadata": {},
   "outputs": [],
   "source": [
    "# Let's pull the candidates info \n",
    "\n",
    "house_cand = pd.read_excel(\"house.xlsx\")\n",
    "print(house_cand.columns)\n",
    "\n",
    "# senate_cand = pd.read_csv(\"senate.csv\")\n",
    "\n",
    "total_winners = house_cand[house_cand[\"GE WINNER INDICATOR\"] == 1].count()[0]\n",
    "house_cand.head()\n",
    "# senate_cand.head()\n",
    "# https://classic.fec.gov/finance/disclosure/metadata/DataDictionaryCandidateMaster.shtml"
   ]
  },
  {
   "cell_type": "code",
   "execution_count": 12,
   "metadata": {},
   "outputs": [
    {
     "data": {
      "text/plain": [
       "28"
      ]
     },
     "execution_count": 12,
     "metadata": {},
     "output_type": "execute_result"
    }
   ],
   "source": [
    "open_cand = senate_cand[senate_cand['Cand_Incumbent_Challenger_Open_Seat'] == \"OPEN\"]\n",
    "winning_open = open_cand[open_cand[\"GE WINNER INDICATOR\"] == 1] \n",
    "prob_open = winning_open.count()[0]/open_cand.count()[0]\n",
    "winning_open.count()[0]"
   ]
  },
  {
   "cell_type": "code",
   "execution_count": 13,
   "metadata": {},
   "outputs": [
    {
     "data": {
      "text/plain": [
       "124"
      ]
     },
     "execution_count": 13,
     "metadata": {},
     "output_type": "execute_result"
    }
   ],
   "source": [
    "incumbents = senate_cand[senate_cand['Cand_Incumbent_Challenger_Open_Seat'] == \"INCUMBENT\"]\n",
    "winning_incumbents = incumbents[incumbents[\"GE WINNER INDICATOR\"] == 1] \n",
    "prob_incumbents = winning_incumbents.count()[0]/(total_winners - winning_open.count()[0])\n",
    "winning_incumbents.count()[0]"
   ]
  },
  {
   "cell_type": "code",
   "execution_count": 14,
   "metadata": {},
   "outputs": [
    {
     "data": {
      "text/plain": [
       "17"
      ]
     },
     "execution_count": 14,
     "metadata": {},
     "output_type": "execute_result"
    }
   ],
   "source": [
    "challengers = senate_cand[senate_cand['Cand_Incumbent_Challenger_Open_Seat'] == \"CHALLENGER\"]\n",
    "winning_challengers = challengers[challengers[\"GE WINNER INDICATOR\"] == 1] \n",
    "prob_challengers = winning_challengers.count()[0]/(total_winners - winning_open.count()[0])\n",
    "winning_challengers.count()[0]"
   ]
  },
  {
   "cell_type": "code",
   "execution_count": 27,
   "metadata": {},
   "outputs": [
    {
     "data": {
      "image/png": "[encoded data removed]",
      "text/plain": [
       "<Figure size 252x504 with 1 Axes>"
      ]
     },
     "metadata": {},
     "output_type": "display_data"
    }
   ],
   "source": [
    "sns.set()\n",
    "plot = pd.DataFrame({\"Candidate Status\":[\"Incumbent\",\"Challenger\"],\"Probability of winning\":[prob_incumbents,prob_challengers]})\n",
    "g = sns.factorplot(x=\"Candidate Status\", y=\"Probability of winning\",data=plot, kind='bar',size=7, aspect=0.5)\n",
    "for ax in g.axes.flatten():\n",
    "    ax.set_xlabel\n",
    "    ax.set_title('Chances of winning: Incumbent vs Challenger')\n",
    "    g.savefig(\"incumbent.jpg\",dpi=1000)\n"
   ]
  },
  {
   "cell_type": "code",
   "execution_count": null,
   "metadata": {},
   "outputs": [],
   "source": []
  }
 ],
 "metadata": {
  "kernelspec": {
   "display_name": "Python 3",
   "language": "python",
   "name": "python3"
  },
  "language_info": {
   "codemirror_mode": {
    "name": "ipython",
    "version": 3
   },
   "file_extension": ".py",
   "mimetype": "text/x-python",
   "name": "python",
   "nbconvert_exporter": "python",
   "pygments_lexer": "ipython3",
   "version": "3.6.5"
  }
 },
 "nbformat": 4,
 "nbformat_minor": 2
}

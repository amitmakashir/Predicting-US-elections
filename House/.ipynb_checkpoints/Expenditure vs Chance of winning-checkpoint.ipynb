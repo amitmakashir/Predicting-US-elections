{
 "cells": [
  {
   "cell_type": "code",
   "execution_count": 1,
   "metadata": {},
   "outputs": [],
   "source": [
    "import pandas as pd\n",
    "import seaborn as sns\n",
    "import matplotlib.pyplot as plt"
   ]
  },
  {
   "cell_type": "code",
   "execution_count": null,
   "metadata": {},
   "outputs": [],
   "source": [
    "# Let's pull the candidates info \n",
    "\n",
    "house_cand = pd.read_excel(\"house.xlsx\")\n",
    "print(house_cand.columns)\n",
    "\n",
    "total_winners = house_cand[house_cand[\"GE WINNER INDICATOR\"] == 1].count()[0]\n",
    "house_cand.head()\n"
   ]
  },
  {
   "cell_type": "code",
   "execution_count": 3,
   "metadata": {},
   "outputs": [
    {
     "name": "stdout",
     "output_type": "stream",
     "text": [
      "Probability of a candidate winning if he/she has highest individual contribution in their state:  0.74\n"
     ]
    }
   ],
   "source": [
    "top_ind_contri = senate_cand.loc[senate_cand.groupby('Cand_Office_St')[\"Individual_Contribution\"].idxmax()]\n",
    "no_of_states = top_ind_contri.shape[0]\n",
    "no_of_winner = top_ind_contri[top_ind_contri[\"GE WINNER INDICATOR\"] == 1].count()[0]\n",
    "prob_ind_contri = no_of_winner/no_of_states\n",
    "print(\"Probability of a candidate winning if he/she has highest individual contribution in their state: \",prob_ind_contri)"
   ]
  },
  {
   "cell_type": "code",
   "execution_count": 4,
   "metadata": {},
   "outputs": [
    {
     "name": "stdout",
     "output_type": "stream",
     "text": [
      "Probability of a candidate winning if he/she has highest Other committee contribution in their state:  0.82\n"
     ]
    }
   ],
   "source": [
    "other_committee_contri = senate_cand.loc[senate_cand.groupby('Cand_Office_St')[\"Other_Committee_Contribution\"].idxmax()]\n",
    "no_of_winner = other_committee_contri[other_committee_contri[\"GE WINNER INDICATOR\"] == 1].count()[0]\n",
    "prob_other_comm = no_of_winner/no_of_states\n",
    "print(\"Probability of a candidate winning if he/she has highest Other committee contribution in their state: \",prob_other_comm)\n"
   ]
  },
  {
   "cell_type": "code",
   "execution_count": 5,
   "metadata": {},
   "outputs": [
    {
     "name": "stdout",
     "output_type": "stream",
     "text": [
      "Probability of a candidate winning if he/she has highest total disbursement in their state:  0.62\n"
     ]
    }
   ],
   "source": [
    "total_disbur = senate_cand.loc[senate_cand.groupby('Cand_Office_St')[\"Total_Disbursement\"].idxmax()]\n",
    "no_of_winner = total_disbur[total_disbur[\"GE WINNER INDICATOR\"] == 1].count()[0]\n",
    "prob_total_disbur = no_of_winner/no_of_states\n",
    "print(\"Probability of a candidate winning if he/she has highest total disbursement in their state: \",prob_total_disbur)\n"
   ]
  },
  {
   "cell_type": "code",
   "execution_count": null,
   "metadata": {},
   "outputs": [],
   "source": []
  },
  {
   "cell_type": "code",
   "execution_count": 9,
   "metadata": {},
   "outputs": [
    {
     "data": {
      "image/png": "[encoded data removed]",
      "text/plain": [
       "<Figure size 352.8x504 with 1 Axes>"
      ]
     },
     "metadata": {},
     "output_type": "display_data"
    }
   ],
   "source": [
    "sns.set()\n",
    "plot = pd.DataFrame({\"Candidate Status\":[\"Individual\",\"Other Committe\",\"Total Disbursement\"],\"Probability of winning\":[prob_ind_contri,prob_other_comm,prob_total_disbur]})\n",
    "g = sns.factorplot(x=\"Candidate Status\", y=\"Probability of winning\",data=plot, kind='bar',size=7, aspect=0.7)\n",
    "\n",
    "for ax in g.axes.flatten():\n",
    "#     ax.legend()\n",
    "    ax.set_xlabel('')\n",
    "    ax.set_title('Chances of winning: Type of Finance')\n",
    "    g.savefig(\"finance.jpg\",dpi=1000)\n"
   ]
  }
 ],
 "metadata": {
  "kernelspec": {
   "display_name": "Python 3",
   "language": "python",
   "name": "python3"
  },
  "language_info": {
   "codemirror_mode": {
    "name": "ipython",
    "version": 3
   },
   "file_extension": ".py",
   "mimetype": "text/x-python",
   "name": "python",
   "nbconvert_exporter": "python",
   "pygments_lexer": "ipython3",
   "version": "3.6.5"
  }
 },
 "nbformat": 4,
 "nbformat_minor": 2
}
